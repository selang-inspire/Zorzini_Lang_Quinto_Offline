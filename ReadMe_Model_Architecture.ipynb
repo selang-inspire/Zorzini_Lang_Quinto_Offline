{
 "cells": [
  {
   "cell_type": "markdown",
   "metadata": {},
   "source": [
    "# Thermal compensation model explained\n",
    "\n",
    "## Main file structure\n",
    "The main file contain various section.\n",
    "The First section is the parameters setting section.\n",
    "Here, the name of the machine is defined with the corrisponding machine-specific method to be called , as well as the mode in which the code will run (either simulation, or offline, and online compensation)\n",
    "\n",
    "## Machine-specific method \n",
    "This feature allows compensation on various machine. For each new machine, a new method have to be generated. The method should contain:\n",
    "- A machine-specific parameters setting section (with sensors list, error list and file paths of data)\n",
    "- A data loading section (for example from excel file xlsx), that stores data in dataframe type (pandas library)\n",
    "- A fuction for thermal error calculation if necessary\n",
    "- A function that returns a dataframe layout with standard structure. See InfluxDB section for this implementation.\n",
    "\n",
    "This method, when called, returns the data measured according to the machine chosen. \n",
    "\n",
    "## Data loading\n",
    "\n",
    "The data loading block should return the data in a compact form, in order to allow compensation in both offline ond online mode. This is handled by logger_rtd file for example (for online compensation).\n",
    "\n",
    "The main code contain a class definition Machine.\n"
   ]
  },
  {
   "cell_type": "markdown",
   "metadata": {},
   "source": [
    "A distintion is made between initializzation of offline and online compensation.\n",
    "\n",
    "\n",
    "### Offline compensation\n"
   ]
  },
  {
   "attachments": {},
   "cell_type": "markdown",
   "metadata": {},
   "source": [
    "The LoadDataOffline function is defined only for simulation mode. This function recall the method machine specific that allows reading and loading of the excell file for each machine\n",
    "\n",
    "### Online compensation\n",
    "\n",
    "The temperature and thermal error data are being loaded almost simultaneously using a threading system. HINT: to stop data collecting, please press CTRL + C.\n",
    "\n",
    "\n",
    "## InfluxDB - Data writing and storing\n",
    "\n",
    "This section is purely for informational purposes and is not complete . For more detailed information (for example regarding installation), please refer to the following link: https://docs.influxdata.com/influxdb/v2.5/get-started/\n",
    "\n",
    "This plattform is being used for data writing and as database management system. \n",
    "\n",
    "It is important to make a distinction: there is a central cdevice (a raspberry/computer/PC) in which the server of influx is running and which will store the data, and there are the collecting devices, that handle the sensors. InfluxDB server has been downloaded in both the device types, although the collecting devices are using just the libraries to make the code run.\n",
    "\n",
    "To download InfluxDB, the server has to be installed as well as the influx client in order to use the libraries on both the laptop and the raspberries (window and linux). \n",
    "IMPORTANT: to make the code working it's is important to download the client extension on the raspberry even though it is not necessary (a raspberry pi with 32 bit operating system supports only old version of Influx server, plear refer to the second IMPORTANT point). This will allow communication between the computer (in which the server of influx is running! make sure to launch it before doing anything). There is a language difference between just installing the server on the raspberry and using the client extension.  \n",
    "\n",
    "The server will run on the local host of the central device. To connect the collecting devices to it, the IP address of the central device will have to be known (either we are using a wire ore wireless WiFi connection). \n",
    "To use a WiFi connection, connect all the devices to the same network and find the IP addres of the central device (if the central device is a window pc, type ipconfig/all in the command prompt and look for the IPv4 under WiFi section). \n",
    "\n",
    "Once the IP address is known, the url variable need  to be adjusted accordingly (make sure to add the port of the PC in which the server is running, in the following case the port is 8086 bt it can be diffferent according to the download preferences). It is important to check that the devices are actually communicating through the right IP address BEFORE running the code.\n",
    "\n",
    "To activate the server using window os, we can use the following set of commands from terminal\n",
    "\n"
   ]
  },
  {
   "cell_type": "raw",
   "metadata": {
    "tags": []
   },
   "source": [
    "cd -path to the influxdb .exe folder\n",
    ".\\influxd"
   ]
  },
  {
   "attachments": {},
   "cell_type": "markdown",
   "metadata": {},
   "source": [
    "To link the sensors-raspberry to the one in which the server is running, the IP address+port is used. Remember to change the url in the py code accordinly to the correct IP address/port."
   ]
  },
  {
   "cell_type": "raw",
   "metadata": {},
   "source": [
    "url = \"http:://10.4.0.92:8086\""
   ]
  },
  {
   "attachments": {},
   "cell_type": "markdown",
   "metadata": {},
   "source": [
    "The token is used to access the databases of the organization. It is an autentification key that is being used instead of username and password, and is associated with a user and a specific set of permissions for InfluxDB resources. To generate a new token, look for the section \"API token\" under \"load data\" on the local host interface. Copy the identifying key and store it as well in a variable."
   ]
  },
  {
   "cell_type": "raw",
   "metadata": {},
   "source": [
    "token = \"...\""
   ]
  },
  {
   "attachments": {},
   "cell_type": "markdown",
   "metadata": {},
   "source": [
    "Lastly, the organization as well as the bucket need to be specified. The bucket is the databases location in which we will store the data. "
   ]
  },
  {
   "cell_type": "raw",
   "metadata": {},
   "source": [
    "org = \"example\"\n",
    "bucket =  \"test\""
   ]
  },
  {
   "attachments": {},
   "cell_type": "markdown",
   "metadata": {},
   "source": [
    "To write data using a python file, the client library has to be installed and imported. To install it run the following command in the terminal:\n"
   ]
  },
  {
   "cell_type": "raw",
   "metadata": {},
   "source": [
    "pip install influxdb_client"
   ]
  },
  {
   "attachments": {},
   "cell_type": "markdown",
   "metadata": {},
   "source": [
    "To import it, use the import command in the py file:"
   ]
  },
  {
   "cell_type": "raw",
   "metadata": {},
   "source": [
    "import influxdb_client, os, time\n",
    "from influxdb_client import InfluxDBClient, Point, WritePrecision\n",
    "from influxdb_client.client.write_api import SYNCHRONOUS"
   ]
  },
  {
   "attachments": {},
   "cell_type": "markdown",
   "metadata": {},
   "source": [
    "To write data into the database, a client object needs to be initiated as following:"
   ]
  },
  {
   "cell_type": "raw",
   "metadata": {},
   "source": [
    "client = influxdb_client.InfluxDBClient(url=url,token=token,org=org)"
   ]
  },
  {
   "cell_type": "markdown",
   "metadata": {},
   "source": [
    "The client library contains method to write data. First a point is generated, with respective tag value. Then it is stored to  \n",
    "the database using the write_api method. The value of the point is stored into field. "
   ]
  },
  {
   "cell_type": "raw",
   "metadata": {},
   "source": [
    "point = (\n",
    "    Point(\"measurement\")\n",
    "    .tag(\"tagname1\", \"tagvalue1\")\n",
    "    .field(\"field1\",3)\n",
    "    )\n",
    "\n",
    "write_api = client.write_api(write_options=SYNCHRONOUS) #SYNCHRONOUS is a way to import data \n",
    "write_api.write(bucket=bucket, org=\"st\", record=point)"
   ]
  },
  {
   "cell_type": "markdown",
   "metadata": {},
   "source": [
    "Here are some guides to the client library: https://powersj.io/posts/influxdb-client-python-write-api-deep-dive/\n",
    "https://influxdb-client.readthedocs.io/en/stable/usage.html\n",
    "\n",
    "IMPORTANT: the latest version of Influxdb2 runs only on 64 bit operating system. The UI as well as the commands listed before are supported only on Influxdb2. "
   ]
  },
  {
   "attachments": {},
   "cell_type": "markdown",
   "metadata": {},
   "source": [
    "## Here to be added: explaination of the code used to read and import the data into influxdb (threading) And eventually introduction to grafana"
   ]
  },
  {
   "attachments": {},
   "cell_type": "markdown",
   "metadata": {},
   "source": [
    "## Backup systems \n",
    "\n",
    "As a cover up measure, we have different security measures. First, the code has a restarting system directly implemented that allow the restarting of the logging py-file whenever a problem or an Exception arises. This is done by using the following libraries (explanatory webpages):\n",
    "https://docs.python.org/3/howto/logging.html\n",
    "https://www.tutorialsteacher.com/python/os-module\n",
    "\n",
    "Then, a restartig system after reboot:\n",
    "To restart after switching the raspberry off, we have to create a launch command containing the python script:\n",
    "https://www.instructables.com/Raspberry-Pi-Launch-Python-script-on-startup/\n",
    "\n",
    "Additionally, a watchdog can be implemented, which controlls the folder and the files that are modified.\n",
    "To run a watchdog for python on the computer the according library has to be installed. Please refer to the following webpage and youtube video:\n",
    "https://pythonhosted.org/watchdog/,\n",
    "https://www.youtube.com/watch?v=JR2e2Z2yJUE&ab_channel=IamPython.\n",
    "\n",
    "On a window pc, the installation can be done by typing the following command into the terminal ."
   ]
  },
  {
   "cell_type": "raw",
   "metadata": {},
   "source": [
    "pip install watchdog "
   ]
  },
  {
   "attachments": {},
   "cell_type": "markdown",
   "metadata": {},
   "source": [
    "\n",
    "\n",
    "Forever running :\n",
    "https://techtldr.com/how-to-restart-python-script-after-exception-and-run-it-forever/ - not used in the code "
   ]
  }
 ],
 "metadata": {
  "kernelspec": {
   "display_name": "Python 3.10.7 64-bit",
   "language": "python",
   "name": "python3"
  },
  "language_info": {
   "codemirror_mode": {
    "name": "ipython",
    "version": 3
   },
   "file_extension": ".py",
   "mimetype": "text/x-python",
   "name": "python",
   "nbconvert_exporter": "python",
   "pygments_lexer": "ipython3",
   "version": "3.10.7"
  },
  "vscode": {
   "interpreter": {
    "hash": "7f96446104aad20e54fe21616a790cfa09123f047c1f3190bbb026331dd2807a"
   }
  }
 },
 "nbformat": 4,
 "nbformat_minor": 4
}
