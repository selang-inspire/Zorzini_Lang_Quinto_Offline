{
 "cells": [
  {
   "cell_type": "code",
   "execution_count": 15,
   "metadata": {
    "collapsed": true,
    "ExecuteTime": {
     "end_time": "2023-10-26T16:25:29.352630300Z",
     "start_time": "2023-10-26T16:25:29.255714500Z"
    }
   },
   "outputs": [],
   "source": [
    "import pandas as pd\n",
    "import numpy as np\n",
    "#import csv\n",
    "\n",
    "filename = \"C:\\\\Users\\\\sebat\\\\OneDrive - ETH Zurich\\\\PHD\\\\projekte\\\\Agathon\\\\Messungen\\\\Quinto_at_Agathon\\\\AnvilPivot\\\\Log_AP_26_10_2023.csv\"\n",
    "\n",
    "data=pd.read_csv(filename,names=list('abcdefghijkl'))"
   ]
  },
  {
   "cell_type": "code",
   "execution_count": 34,
   "outputs": [],
   "source": [
    "MachineData=pd.DataFrame()\n",
    "for i in range(0,len(data),3):\n",
    "    MachineData"
   ],
   "metadata": {
    "collapsed": false,
    "ExecuteTime": {
     "end_time": "2023-10-26T16:31:43.046603200Z",
     "start_time": "2023-10-26T16:31:43.031830400Z"
    }
   }
  },
  {
   "cell_type": "code",
   "execution_count": 60,
   "outputs": [
    {
     "data": {
      "text/plain": "                             Date DriveTemperature 1 DriveTemperature 2  \\\n1      26.10.2023 13:06:09.210753              397.0              397.0   \n5      26.10.2023 13:06:10.582084              397.0              397.0   \n9      26.10.2023 13:06:11.905543              397.0              397.0   \n13     26.10.2023 13:06:13.263910              397.0              397.0   \n17     26.10.2023 13:06:14.645216              397.0              397.0   \n...                           ...                ...                ...   \n48085  26.10.2023 17:34:57.108567              397.0              397.0   \n48089  26.10.2023 17:34:58.425044              397.0              397.0   \n48093  26.10.2023 17:34:59.774434              397.0              397.0   \n48097  26.10.2023 17:35:01.053014              397.0              397.0   \n48101  26.10.2023 17:35:02.347552              397.0              397.0   \n\n      DriveTemperature 3 DriveTemperature 3  \\\n1                  397.0              397.0   \n5                  397.0              397.0   \n9                  397.0              397.0   \n13                 397.0              397.0   \n17                 397.0              397.0   \n...                  ...                ...   \n48085              397.0              397.0   \n48089              397.0              397.0   \n48093              397.0              397.0   \n48097              397.0              397.0   \n48101              397.0              397.0   \n\n      DriveTemperature 4DriveTemperature 5 DriveTemperature 6  \\\n1                                    397.0              397.0   \n5                                    397.0              397.0   \n9                                    397.0              397.0   \n13                                   397.0              397.0   \n17                                   397.0              397.0   \n...                                    ...                ...   \n48085                                397.0              397.0   \n48089                                397.0              397.0   \n48093                                397.0              397.0   \n48097                                397.0              397.0   \n48101                                397.0              397.0   \n\n      DriveTemperature 7 DriveTemperature 8 DriveTemperature 9  \\\n1                  397.0              397.0              397.0   \n5                  397.0              397.0              397.0   \n9                  397.0              397.0              397.0   \n13                 397.0              397.0              397.0   \n17                 397.0              397.0              397.0   \n...                  ...                ...                ...   \n48085              397.0              397.0              397.0   \n48089              397.0              397.0              397.0   \n48093              397.0              397.0              397.0   \n48097              397.0              397.0              397.0   \n48101              397.0              397.0              397.0   \n\n      DriveTemperature 10 DriveTemperature 11 DrivePower DriveEnergy  \n1                   397.0               397.0        NaN         NaN  \n5                   397.0               397.0        NaN         NaN  \n9                   397.0               397.0        NaN         NaN  \n13                  397.0               397.0        NaN         NaN  \n17                  397.0               397.0        NaN         NaN  \n...                   ...                 ...        ...         ...  \n48085               397.0               397.0        NaN         NaN  \n48089               397.0               397.0        NaN         NaN  \n48093               397.0               397.0        NaN         NaN  \n48097               397.0               397.0        NaN         NaN  \n48101               397.0               397.0        NaN         NaN  \n\n[12026 rows x 14 columns]",
      "text/html": "<div>\n<style scoped>\n    .dataframe tbody tr th:only-of-type {\n        vertical-align: middle;\n    }\n\n    .dataframe tbody tr th {\n        vertical-align: top;\n    }\n\n    .dataframe thead th {\n        text-align: right;\n    }\n</style>\n<table border=\"1\" class=\"dataframe\">\n  <thead>\n    <tr style=\"text-align: right;\">\n      <th></th>\n      <th>Date</th>\n      <th>DriveTemperature 1</th>\n      <th>DriveTemperature 2</th>\n      <th>DriveTemperature 3</th>\n      <th>DriveTemperature 3</th>\n      <th>DriveTemperature 4DriveTemperature 5</th>\n      <th>DriveTemperature 6</th>\n      <th>DriveTemperature 7</th>\n      <th>DriveTemperature 8</th>\n      <th>DriveTemperature 9</th>\n      <th>DriveTemperature 10</th>\n      <th>DriveTemperature 11</th>\n      <th>DrivePower</th>\n      <th>DriveEnergy</th>\n    </tr>\n  </thead>\n  <tbody>\n    <tr>\n      <th>1</th>\n      <td>26.10.2023 13:06:09.210753</td>\n      <td>397.0</td>\n      <td>397.0</td>\n      <td>397.0</td>\n      <td>397.0</td>\n      <td>397.0</td>\n      <td>397.0</td>\n      <td>397.0</td>\n      <td>397.0</td>\n      <td>397.0</td>\n      <td>397.0</td>\n      <td>397.0</td>\n      <td>NaN</td>\n      <td>NaN</td>\n    </tr>\n    <tr>\n      <th>5</th>\n      <td>26.10.2023 13:06:10.582084</td>\n      <td>397.0</td>\n      <td>397.0</td>\n      <td>397.0</td>\n      <td>397.0</td>\n      <td>397.0</td>\n      <td>397.0</td>\n      <td>397.0</td>\n      <td>397.0</td>\n      <td>397.0</td>\n      <td>397.0</td>\n      <td>397.0</td>\n      <td>NaN</td>\n      <td>NaN</td>\n    </tr>\n    <tr>\n      <th>9</th>\n      <td>26.10.2023 13:06:11.905543</td>\n      <td>397.0</td>\n      <td>397.0</td>\n      <td>397.0</td>\n      <td>397.0</td>\n      <td>397.0</td>\n      <td>397.0</td>\n      <td>397.0</td>\n      <td>397.0</td>\n      <td>397.0</td>\n      <td>397.0</td>\n      <td>397.0</td>\n      <td>NaN</td>\n      <td>NaN</td>\n    </tr>\n    <tr>\n      <th>13</th>\n      <td>26.10.2023 13:06:13.263910</td>\n      <td>397.0</td>\n      <td>397.0</td>\n      <td>397.0</td>\n      <td>397.0</td>\n      <td>397.0</td>\n      <td>397.0</td>\n      <td>397.0</td>\n      <td>397.0</td>\n      <td>397.0</td>\n      <td>397.0</td>\n      <td>397.0</td>\n      <td>NaN</td>\n      <td>NaN</td>\n    </tr>\n    <tr>\n      <th>17</th>\n      <td>26.10.2023 13:06:14.645216</td>\n      <td>397.0</td>\n      <td>397.0</td>\n      <td>397.0</td>\n      <td>397.0</td>\n      <td>397.0</td>\n      <td>397.0</td>\n      <td>397.0</td>\n      <td>397.0</td>\n      <td>397.0</td>\n      <td>397.0</td>\n      <td>397.0</td>\n      <td>NaN</td>\n      <td>NaN</td>\n    </tr>\n    <tr>\n      <th>...</th>\n      <td>...</td>\n      <td>...</td>\n      <td>...</td>\n      <td>...</td>\n      <td>...</td>\n      <td>...</td>\n      <td>...</td>\n      <td>...</td>\n      <td>...</td>\n      <td>...</td>\n      <td>...</td>\n      <td>...</td>\n      <td>...</td>\n      <td>...</td>\n    </tr>\n    <tr>\n      <th>48085</th>\n      <td>26.10.2023 17:34:57.108567</td>\n      <td>397.0</td>\n      <td>397.0</td>\n      <td>397.0</td>\n      <td>397.0</td>\n      <td>397.0</td>\n      <td>397.0</td>\n      <td>397.0</td>\n      <td>397.0</td>\n      <td>397.0</td>\n      <td>397.0</td>\n      <td>397.0</td>\n      <td>NaN</td>\n      <td>NaN</td>\n    </tr>\n    <tr>\n      <th>48089</th>\n      <td>26.10.2023 17:34:58.425044</td>\n      <td>397.0</td>\n      <td>397.0</td>\n      <td>397.0</td>\n      <td>397.0</td>\n      <td>397.0</td>\n      <td>397.0</td>\n      <td>397.0</td>\n      <td>397.0</td>\n      <td>397.0</td>\n      <td>397.0</td>\n      <td>397.0</td>\n      <td>NaN</td>\n      <td>NaN</td>\n    </tr>\n    <tr>\n      <th>48093</th>\n      <td>26.10.2023 17:34:59.774434</td>\n      <td>397.0</td>\n      <td>397.0</td>\n      <td>397.0</td>\n      <td>397.0</td>\n      <td>397.0</td>\n      <td>397.0</td>\n      <td>397.0</td>\n      <td>397.0</td>\n      <td>397.0</td>\n      <td>397.0</td>\n      <td>397.0</td>\n      <td>NaN</td>\n      <td>NaN</td>\n    </tr>\n    <tr>\n      <th>48097</th>\n      <td>26.10.2023 17:35:01.053014</td>\n      <td>397.0</td>\n      <td>397.0</td>\n      <td>397.0</td>\n      <td>397.0</td>\n      <td>397.0</td>\n      <td>397.0</td>\n      <td>397.0</td>\n      <td>397.0</td>\n      <td>397.0</td>\n      <td>397.0</td>\n      <td>397.0</td>\n      <td>NaN</td>\n      <td>NaN</td>\n    </tr>\n    <tr>\n      <th>48101</th>\n      <td>26.10.2023 17:35:02.347552</td>\n      <td>397.0</td>\n      <td>397.0</td>\n      <td>397.0</td>\n      <td>397.0</td>\n      <td>397.0</td>\n      <td>397.0</td>\n      <td>397.0</td>\n      <td>397.0</td>\n      <td>397.0</td>\n      <td>397.0</td>\n      <td>397.0</td>\n      <td>NaN</td>\n      <td>NaN</td>\n    </tr>\n  </tbody>\n</table>\n<p>12026 rows × 14 columns</p>\n</div>"
     },
     "execution_count": 60,
     "metadata": {},
     "output_type": "execute_result"
    }
   ],
   "source": [
    "DriveName = [\"DriveTemperature 1\",\"DriveTemperature 2\",\"DriveTemperature 3\",\"DriveTemperature 3\",\"DriveTemperature 4\"\n",
    "    \"DriveTemperature 5\",\"DriveTemperature 6\",\"DriveTemperature 7\",\"DriveTemperature 8\",\"DriveTemperature 9\",\"DriveTemperature 10\",\"DriveTemperature 11\"]\n",
    "MachineData=pd.DataFrame(columns=[\"Date\",\"DriveTemperature 1\",\"DriveTemperature 2\",\"DriveTemperature 3\",\"DriveTemperature 3\",\"DriveTemperature 4\"\n",
    "    \"DriveTemperature 5\",\"DriveTemperature 6\",\"DriveTemperature 7\",\"DriveTemperature 8\",\"DriveTemperature 9\",\"DriveTemperature 10\",\"DriveTemperature 11\",\n",
    "    \"DrivePower\",\"DriveEnergy\"])\n",
    "MachineData.Date = data[data.index % 4 ==1 ].iloc[:,0]\n",
    "for i in range(11):\n",
    "    MachineData[DriveName] = data[data.index % 4 ==1 +1].iloc[i,0]\n",
    "MachineData"
   ],
   "metadata": {
    "collapsed": false,
    "ExecuteTime": {
     "end_time": "2023-10-26T16:55:19.358922900Z",
     "start_time": "2023-10-26T16:55:19.270056800Z"
    }
   }
  },
  {
   "cell_type": "code",
   "execution_count": 59,
   "outputs": [
    {
     "ename": "AttributeError",
     "evalue": "'str' object has no attribute 'append'",
     "output_type": "error",
     "traceback": [
      "\u001B[1;31m---------------------------------------------------------------------------\u001B[0m",
      "\u001B[1;31mAttributeError\u001B[0m                            Traceback (most recent call last)",
      "Cell \u001B[1;32mIn[59], line 1\u001B[0m\n\u001B[1;32m----> 1\u001B[0m \u001B[43mTempName\u001B[49m\u001B[38;5;241;43m.\u001B[39;49m\u001B[43mappend\u001B[49m\u001B[38;5;241m=\u001B[39m[]\n\u001B[0;32m      2\u001B[0m \u001B[38;5;28;01mfor\u001B[39;00m i \u001B[38;5;129;01min\u001B[39;00m \u001B[38;5;28mrange\u001B[39m(\u001B[38;5;241m11\u001B[39m):\n\u001B[0;32m      3\u001B[0m     TempName\u001B[38;5;241m.\u001B[39mappend(\u001B[38;5;124m\"\u001B[39m\u001B[38;5;124mDriveTemperature\u001B[39m\u001B[38;5;124m\"\u001B[39m\u001B[38;5;241m+\u001B[39m\u001B[38;5;28mstr\u001B[39m(i))\n",
      "\u001B[1;31mAttributeError\u001B[0m: 'str' object has no attribute 'append'"
     ]
    }
   ],
   "source": [
    "TempName.append=[]\n",
    "for i in range(11):\n",
    "    TempName.append(\"DriveTemperature\"+str(i))\n",
    "TempName"
   ],
   "metadata": {
    "collapsed": false,
    "ExecuteTime": {
     "end_time": "2023-10-26T16:51:59.168046700Z",
     "start_time": "2023-10-26T16:51:59.151088100Z"
    }
   }
  },
  {
   "cell_type": "code",
   "execution_count": 3,
   "outputs": [
    {
     "ename": "TypeError",
     "evalue": "'method' object is not subscriptable",
     "output_type": "error",
     "traceback": [
      "\u001B[1;31m---------------------------------------------------------------------------\u001B[0m",
      "\u001B[1;31mTypeError\u001B[0m                                 Traceback (most recent call last)",
      "Cell \u001B[1;32mIn[3], line 3\u001B[0m\n\u001B[0;32m      1\u001B[0m MachineData\u001B[38;5;241m=\u001B[39mpd\u001B[38;5;241m.\u001B[39mDataFrame(columns\u001B[38;5;241m=\u001B[39m[\u001B[38;5;124m\"\u001B[39m\u001B[38;5;124mDate,DriveTemperature\u001B[39m\u001B[38;5;124m\"\u001B[39m,\u001B[38;5;124m\"\u001B[39m\u001B[38;5;124mDrivePower\u001B[39m\u001B[38;5;124m\"\u001B[39m,\u001B[38;5;124m\"\u001B[39m\u001B[38;5;124mDriveEnergy\u001B[39m\u001B[38;5;124m\"\u001B[39m])\n\u001B[0;32m      2\u001B[0m \u001B[38;5;28;01mfor\u001B[39;00m i \u001B[38;5;129;01min\u001B[39;00m \u001B[38;5;28mrange\u001B[39m(\u001B[38;5;241m0\u001B[39m,\u001B[38;5;241m10\u001B[39m,\u001B[38;5;241m3\u001B[39m):\n\u001B[1;32m----> 3\u001B[0m     MachineData\u001B[38;5;241m.\u001B[39mDate\u001B[38;5;241m=\u001B[39m\u001B[43mdata\u001B[49m\u001B[43m[\u001B[49m\u001B[43mi\u001B[49m\u001B[43m,\u001B[49m\u001B[38;5;241;43m0\u001B[39;49m\u001B[43m]\u001B[49m\n\u001B[0;32m      4\u001B[0m MachineData\n",
      "\u001B[1;31mTypeError\u001B[0m: 'method' object is not subscriptable"
     ]
    }
   ],
   "source": [
    "MachineData=pd.DataFrame(columns=[\"Date,DriveTemperature\",\"DrivePower\",\"DriveEnergy\"])\n",
    "for i in range(0,10,3):\n",
    "    if i=0:\n",
    "        MachineData.Date = (data[i,0])\n",
    "        MachineData.DriveTemperature = data[i+1,0:11]/10\n",
    "        MachineData.DrivePower = data[i+2,0:11]/10\n",
    "        MachineData.DriveEnergy =  data[i+3,0:11]/10\n",
    "    else:\n",
    "        MachineData.Date.append(data[i,0])\n",
    "        MachineData.DriveTemperature = data[i+1,0:11]/10\n",
    "        MachineData.DrivePower = data[i+2,0:11]/10\n",
    "        MachineData.DriveEnergy =\n",
    "MachineData"
   ],
   "metadata": {
    "collapsed": false,
    "ExecuteTime": {
     "end_time": "2023-10-17T06:18:19.840186500Z",
     "start_time": "2023-10-17T06:18:19.351734300Z"
    }
   }
  },
  {
   "cell_type": "code",
   "execution_count": 40,
   "outputs": [
    {
     "data": {
      "text/plain": "                                a          b          c          d          e  \\\n0                       Date/Time  Channel 1  Channel 2  Channel 3  Channel 4   \n1      26.10.2023 13:06:09.210753        NaN        NaN        NaN        NaN   \n2                           397.0      222.0      229.0      236.0      236.0   \n3                             4.0      107.0      106.0        0.0        0.0   \n4                       5660069.0   239168.0   239169.0     5153.0     5153.0   \n...                           ...        ...        ...        ...        ...   \n48100                   6408060.0   418729.0   418729.0     5153.0     5153.0   \n48101  26.10.2023 17:35:02.347552        NaN        NaN        NaN        NaN   \n48102                       375.0      185.0      185.0      229.0      229.0   \n48103                         0.0        0.0        0.0        0.0        0.0   \n48104                   6408060.0   418729.0   418729.0     5153.0     5153.0   \n\n               f          g          h          i      j       k       l  \n0      Channel 5  Channel 6  Channel 7  Channel 8    NaN     NaN     NaN  \n1            NaN        NaN        NaN        NaN    NaN     NaN     NaN  \n2           20.0       20.0      453.0      280.0  288.0   258.0   258.0  \n3            0.0        0.0        0.0        0.0    0.0     0.0     0.0  \n4       204750.0   204750.0     2146.0     1823.0 -446.0  3698.0  3698.0  \n...          ...        ...        ...        ...    ...     ...     ...  \n48100   271187.0   271187.0     4646.0     2087.0 -520.0  5440.0  5440.0  \n48101        NaN        NaN        NaN        NaN    NaN     NaN     NaN  \n48102       20.0       20.0      446.0      280.0  295.0   258.0   258.0  \n48103        0.0        0.0        0.0        0.0    0.0     0.0     0.0  \n48104   271187.0   271187.0     4646.0     2087.0 -520.0  5440.0  5440.0  \n\n[48105 rows x 12 columns]",
      "text/html": "<div>\n<style scoped>\n    .dataframe tbody tr th:only-of-type {\n        vertical-align: middle;\n    }\n\n    .dataframe tbody tr th {\n        vertical-align: top;\n    }\n\n    .dataframe thead th {\n        text-align: right;\n    }\n</style>\n<table border=\"1\" class=\"dataframe\">\n  <thead>\n    <tr style=\"text-align: right;\">\n      <th></th>\n      <th>a</th>\n      <th>b</th>\n      <th>c</th>\n      <th>d</th>\n      <th>e</th>\n      <th>f</th>\n      <th>g</th>\n      <th>h</th>\n      <th>i</th>\n      <th>j</th>\n      <th>k</th>\n      <th>l</th>\n    </tr>\n  </thead>\n  <tbody>\n    <tr>\n      <th>0</th>\n      <td>Date/Time</td>\n      <td>Channel 1</td>\n      <td>Channel 2</td>\n      <td>Channel 3</td>\n      <td>Channel 4</td>\n      <td>Channel 5</td>\n      <td>Channel 6</td>\n      <td>Channel 7</td>\n      <td>Channel 8</td>\n      <td>NaN</td>\n      <td>NaN</td>\n      <td>NaN</td>\n    </tr>\n    <tr>\n      <th>1</th>\n      <td>26.10.2023 13:06:09.210753</td>\n      <td>NaN</td>\n      <td>NaN</td>\n      <td>NaN</td>\n      <td>NaN</td>\n      <td>NaN</td>\n      <td>NaN</td>\n      <td>NaN</td>\n      <td>NaN</td>\n      <td>NaN</td>\n      <td>NaN</td>\n      <td>NaN</td>\n    </tr>\n    <tr>\n      <th>2</th>\n      <td>397.0</td>\n      <td>222.0</td>\n      <td>229.0</td>\n      <td>236.0</td>\n      <td>236.0</td>\n      <td>20.0</td>\n      <td>20.0</td>\n      <td>453.0</td>\n      <td>280.0</td>\n      <td>288.0</td>\n      <td>258.0</td>\n      <td>258.0</td>\n    </tr>\n    <tr>\n      <th>3</th>\n      <td>4.0</td>\n      <td>107.0</td>\n      <td>106.0</td>\n      <td>0.0</td>\n      <td>0.0</td>\n      <td>0.0</td>\n      <td>0.0</td>\n      <td>0.0</td>\n      <td>0.0</td>\n      <td>0.0</td>\n      <td>0.0</td>\n      <td>0.0</td>\n    </tr>\n    <tr>\n      <th>4</th>\n      <td>5660069.0</td>\n      <td>239168.0</td>\n      <td>239169.0</td>\n      <td>5153.0</td>\n      <td>5153.0</td>\n      <td>204750.0</td>\n      <td>204750.0</td>\n      <td>2146.0</td>\n      <td>1823.0</td>\n      <td>-446.0</td>\n      <td>3698.0</td>\n      <td>3698.0</td>\n    </tr>\n    <tr>\n      <th>...</th>\n      <td>...</td>\n      <td>...</td>\n      <td>...</td>\n      <td>...</td>\n      <td>...</td>\n      <td>...</td>\n      <td>...</td>\n      <td>...</td>\n      <td>...</td>\n      <td>...</td>\n      <td>...</td>\n      <td>...</td>\n    </tr>\n    <tr>\n      <th>48100</th>\n      <td>6408060.0</td>\n      <td>418729.0</td>\n      <td>418729.0</td>\n      <td>5153.0</td>\n      <td>5153.0</td>\n      <td>271187.0</td>\n      <td>271187.0</td>\n      <td>4646.0</td>\n      <td>2087.0</td>\n      <td>-520.0</td>\n      <td>5440.0</td>\n      <td>5440.0</td>\n    </tr>\n    <tr>\n      <th>48101</th>\n      <td>26.10.2023 17:35:02.347552</td>\n      <td>NaN</td>\n      <td>NaN</td>\n      <td>NaN</td>\n      <td>NaN</td>\n      <td>NaN</td>\n      <td>NaN</td>\n      <td>NaN</td>\n      <td>NaN</td>\n      <td>NaN</td>\n      <td>NaN</td>\n      <td>NaN</td>\n    </tr>\n    <tr>\n      <th>48102</th>\n      <td>375.0</td>\n      <td>185.0</td>\n      <td>185.0</td>\n      <td>229.0</td>\n      <td>229.0</td>\n      <td>20.0</td>\n      <td>20.0</td>\n      <td>446.0</td>\n      <td>280.0</td>\n      <td>295.0</td>\n      <td>258.0</td>\n      <td>258.0</td>\n    </tr>\n    <tr>\n      <th>48103</th>\n      <td>0.0</td>\n      <td>0.0</td>\n      <td>0.0</td>\n      <td>0.0</td>\n      <td>0.0</td>\n      <td>0.0</td>\n      <td>0.0</td>\n      <td>0.0</td>\n      <td>0.0</td>\n      <td>0.0</td>\n      <td>0.0</td>\n      <td>0.0</td>\n    </tr>\n    <tr>\n      <th>48104</th>\n      <td>6408060.0</td>\n      <td>418729.0</td>\n      <td>418729.0</td>\n      <td>5153.0</td>\n      <td>5153.0</td>\n      <td>271187.0</td>\n      <td>271187.0</td>\n      <td>4646.0</td>\n      <td>2087.0</td>\n      <td>-520.0</td>\n      <td>5440.0</td>\n      <td>5440.0</td>\n    </tr>\n  </tbody>\n</table>\n<p>48105 rows × 12 columns</p>\n</div>"
     },
     "execution_count": 40,
     "metadata": {},
     "output_type": "execute_result"
    }
   ],
   "source": [
    "data"
   ],
   "metadata": {
    "collapsed": false,
    "ExecuteTime": {
     "end_time": "2023-10-26T16:39:22.903324Z",
     "start_time": "2023-10-26T16:39:22.902173100Z"
    }
   }
  },
  {
   "cell_type": "code",
   "execution_count": null,
   "outputs": [],
   "source": [],
   "metadata": {
    "collapsed": false
   }
  }
 ],
 "metadata": {
  "kernelspec": {
   "display_name": "Python 3",
   "language": "python",
   "name": "python3"
  },
  "language_info": {
   "codemirror_mode": {
    "name": "ipython",
    "version": 2
   },
   "file_extension": ".py",
   "mimetype": "text/x-python",
   "name": "python",
   "nbconvert_exporter": "python",
   "pygments_lexer": "ipython2",
   "version": "2.7.6"
  }
 },
 "nbformat": 4,
 "nbformat_minor": 0
}
